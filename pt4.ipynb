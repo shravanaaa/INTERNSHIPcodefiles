{
 "cells": [
  {
   "cell_type": "code",
   "execution_count": 4,
   "id": "15ea8cec",
   "metadata": {},
   "outputs": [
    {
     "name": "stdout",
     "output_type": "stream",
     "text": [
      "<__main__.person object at 0x0000020CDDA52E50>\n",
      "Alec Baldwin was born in 1958.\n"
     ]
    }
   ],
   "source": [
    "#oops\n",
    "class person:\n",
    "    pass\n",
    "john_doe = person()\n",
    "john_doe.name = \"Alec\"\n",
    "john_doe.surname = \"Baldwin\"\n",
    "john_doe.year_of_birth = 1958\n",
    "\n",
    "\n",
    "print(john_doe)\n",
    "print(\"%s %s was born in %d.\" %\n",
    "     (john_doe.name,john_doe.surname,john_doe.year_of_birth))\n"
   ]
  },
  {
   "cell_type": "code",
   "execution_count": 7,
   "id": "d74371b8",
   "metadata": {},
   "outputs": [],
   "source": [
    "class person:\n",
    "    def __init__(self, name, surname, year_of_birth):\n",
    "        self.name = name\n",
    "        self.surname = surname\n",
    "        self.year_of_birth = year_of_birth"
   ]
  },
  {
   "cell_type": "code",
   "execution_count": 17,
   "id": "1d7f2239",
   "metadata": {},
   "outputs": [
    {
     "name": "stdout",
     "output_type": "stream",
     "text": [
      "<__main__.person object at 0x0000020CDD2CFBD0>\n",
      "Alec Bladwin was born in 1958\n"
     ]
    }
   ],
   "source": [
    "Alec = person(\"alec\",\"bladewin\",1958)\n",
    "print(alec)\n",
    "print(\"%s %s was born in %d\"%(alec.name,alec.surname,alec.year_of_birth))"
   ]
  },
  {
   "cell_type": "code",
   "execution_count": 23,
   "id": "5d67cee5",
   "metadata": {},
   "outputs": [
    {
     "name": "stdout",
     "output_type": "stream",
     "text": [
      "Alec Bladwin was born in 1958.\n",
      "61\n"
     ]
    }
   ],
   "source": [
    "class person:\n",
    "    def __init__(self, name, surname, year_of_birth):\n",
    "            self.name = name\n",
    "            self.surname = surname\n",
    "            self.year_of_birth = year_of_birth\n",
    "            \n",
    "    def age(self,current_year):\n",
    "        return current_year - self.year_of_birth\n",
    "\n",
    "    def __str__(self):\n",
    "        return \"%s %s was born in %d.\" % (self.name,self.surname, self.year_of_birth)\n",
    "        \n",
    "alec = person(\"Alec\", \"Bladwin\", 1958)\n",
    "print(alec)\n",
    "print(alec.age(2019))\n",
    "        \n",
    "        "
   ]
  },
  {
   "cell_type": "code",
   "execution_count": 24,
   "id": "81b3640b",
   "metadata": {},
   "outputs": [
    {
     "name": "stdout",
     "output_type": "stream",
     "text": [
      "serri B was born in 2001.\n",
      "22\n"
     ]
    }
   ],
   "source": [
    "class person:\n",
    "    def __init__(self, name, surname, year_of_birth):\n",
    "            self.name = name\n",
    "            self.surname = surname\n",
    "            self.year_of_birth = year_of_birth\n",
    "            \n",
    "    def age(self,current_year):\n",
    "        return current_year - self.year_of_birth\n",
    "\n",
    "    def __str__(self):\n",
    "        return \"%s %s was born in %d.\" % (self.name,self.surname, self.year_of_birth)\n",
    "        \n",
    "alec = person(\"serri\", \"B\", 2001)\n",
    "print(alec)\n",
    "print(alec.age(2023))\n",
    "        \n",
    "        "
   ]
  },
  {
   "cell_type": "code",
   "execution_count": 35,
   "id": "54bbdc19",
   "metadata": {},
   "outputs": [
    {
     "name": "stdout",
     "output_type": "stream",
     "text": [
      "charlie brown was born in 2005.\n",
      "<class '__main__.student'>\n",
      "True\n",
      "True\n"
     ]
    }
   ],
   "source": [
    "#inheritance\n",
    "class student(person):\n",
    "    def __init__(self, student_id, *args, **kwargs):\n",
    "        super(student, self).__init__(*args,**kwargs)\n",
    "        self._stuednt_id = student_id\n",
    "        \n",
    "charlie = student(1, 'charlie','brown', 2005) \n",
    "print(charlie)\n",
    "print(type(charlie))\n",
    "print(isinstance(charlie, person))\n",
    "print(isinstance(charlie, object))"
   ]
  },
  {
   "cell_type": "code",
   "execution_count": 38,
   "id": "6151930f",
   "metadata": {},
   "outputs": [
    {
     "name": "stdout",
     "output_type": "stream",
     "text": [
      "charlie brown was born in 2005.And has ID: 1\n"
     ]
    }
   ],
   "source": [
    "#overriding methods\n",
    "class Student(person):\n",
    "    def __init__(self, student_id, *args, **kwargs):\n",
    "        super(Student, self).__init__(*args,**kwargs)\n",
    "        self._student_id = student_id\n",
    "        \n",
    "    def __str__(self):\n",
    "        return super(Student, self).__str__() + \"And has ID: %d\" % self._student_id\n",
    "    \n",
    "charlie = Student(1, 'charlie', 'brown', 2005)\n",
    "print(charlie)"
   ]
  },
  {
   "cell_type": "code",
   "execution_count": 40,
   "id": "85b7aef2",
   "metadata": {},
   "outputs": [
    {
     "name": "stdout",
     "output_type": "stream",
     "text": [
      "2\n",
      "['a', 'b', 'c', 'd', 'e']\n",
      "abrracadabra\n"
     ]
    }
   ],
   "source": [
    "#polymorphism and ducktyping\n",
    "def summer(a,b):\n",
    "    return a+b\n",
    "\n",
    "print(summer(1, 1))\n",
    "print(summer([\"a\",\"b\",\"c\"],[\"d\",\"e\"]))\n",
    "print(summer(\"abrra\",\"cadabra\"))"
   ]
  },
  {
   "cell_type": "code",
   "execution_count": 42,
   "id": "1ade7128",
   "metadata": {},
   "outputs": [
    {
     "name": "stdout",
     "output_type": "stream",
     "text": [
      "Overwriting test.text\n"
     ]
    }
   ],
   "source": [
    "#creating ipython file\n",
    "%%writefile test.text\n",
    "hello, this is a quick  superman test file\n"
   ]
  },
  {
   "cell_type": "code",
   "execution_count": 46,
   "id": "36f6f9b3",
   "metadata": {},
   "outputs": [],
   "source": [
    "#open the text.txt\n",
    "my_file = open('test.text')"
   ]
  },
  {
   "cell_type": "code",
   "execution_count": 47,
   "id": "39728e40",
   "metadata": {},
   "outputs": [
    {
     "data": {
      "text/plain": [
       "'hello, this is a quick  superman test file\\n'"
      ]
     },
     "execution_count": 47,
     "metadata": {},
     "output_type": "execute_result"
    }
   ],
   "source": [
    "my_file.read()"
   ]
  },
  {
   "cell_type": "code",
   "execution_count": 48,
   "id": "811b9944",
   "metadata": {},
   "outputs": [
    {
     "data": {
      "text/plain": [
       "0"
      ]
     },
     "execution_count": 48,
     "metadata": {},
     "output_type": "execute_result"
    }
   ],
   "source": [
    "#seek to start of files (index 0)\n",
    "my_file.seek(0)"
   ]
  },
  {
   "cell_type": "code",
   "execution_count": 50,
   "id": "e34190cb",
   "metadata": {},
   "outputs": [],
   "source": [
    "#writing a file\n",
    "my_file=open('test.text','w+')"
   ]
  },
  {
   "cell_type": "code",
   "execution_count": 52,
   "id": "2a87422b",
   "metadata": {},
   "outputs": [
    {
     "data": {
      "text/plain": [
       "17"
      ]
     },
     "execution_count": 52,
     "metadata": {},
     "output_type": "execute_result"
    }
   ],
   "source": [
    "my_file.write('this is anew line')"
   ]
  },
  {
   "cell_type": "code",
   "execution_count": 54,
   "id": "8c8896dd",
   "metadata": {},
   "outputs": [
    {
     "data": {
      "text/plain": [
       "0"
      ]
     },
     "execution_count": 54,
     "metadata": {},
     "output_type": "execute_result"
    }
   ],
   "source": [
    "my_file.seek(0)"
   ]
  },
  {
   "cell_type": "code",
   "execution_count": 55,
   "id": "337eb807",
   "metadata": {},
   "outputs": [
    {
     "data": {
      "text/plain": [
       "'this is anew line'"
      ]
     },
     "execution_count": 55,
     "metadata": {},
     "output_type": "execute_result"
    }
   ],
   "source": [
    "my_file.read()"
   ]
  },
  {
   "cell_type": "code",
   "execution_count": null,
   "id": "47f6ba94",
   "metadata": {},
   "outputs": [],
   "source": []
  }
 ],
 "metadata": {
  "kernelspec": {
   "display_name": "Python 3 (ipykernel)",
   "language": "python",
   "name": "python3"
  },
  "language_info": {
   "codemirror_mode": {
    "name": "ipython",
    "version": 3
   },
   "file_extension": ".py",
   "mimetype": "text/x-python",
   "name": "python",
   "nbconvert_exporter": "python",
   "pygments_lexer": "ipython3",
   "version": "3.11.4"
  }
 },
 "nbformat": 4,
 "nbformat_minor": 5
}
