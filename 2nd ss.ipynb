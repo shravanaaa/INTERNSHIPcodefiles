{
 "cells": [
  {
   "cell_type": "code",
   "execution_count": 8,
   "id": "bf5c6c3a",
   "metadata": {},
   "outputs": [
    {
     "name": "stdout",
     "output_type": "stream",
     "text": [
      "enter n: 50\n",
      "the sum is 1275\n"
     ]
    }
   ],
   "source": [
    "# program to add natural \n",
    "# numbers upto\n",
    "# sum = 1+2+3+....+n\n",
    "\n",
    "# To take input from the user,\n",
    "n = int(input(\"enter n: \"))\n",
    "\n",
    "# initialize sum and counter \n",
    "sum = 0\n",
    "i = 1\n",
    "\n",
    "while i <= n:\n",
    "    sum = sum + i\n",
    "    i = i+1    \n",
    "    \n",
    "# print the sum\n",
    "print(\"the sum is\",sum)"
   ]
  },
  {
   "cell_type": "code",
   "execution_count": 1,
   "id": "bb02b97f",
   "metadata": {},
   "outputs": [
    {
     "name": "stdout",
     "output_type": "stream",
     "text": [
      "less than 5\n"
     ]
    }
   ],
   "source": [
    "#Branching(if/elif/else)\n",
    "\n",
    "i = 3\n",
    "if i < 3:\n",
    "    print('less than 3')\n",
    "elif i < 5:\n",
    "    print('less than 5')\n",
    "else:\n",
    "    print('5 or more')\n",
    "    "
   ]
  },
  {
   "cell_type": "code",
   "execution_count": 2,
   "id": "de0ccd8a",
   "metadata": {},
   "outputs": [
    {
     "data": {
      "text/plain": [
       "[1, 56, 2, 'b', 'c']"
      ]
     },
     "execution_count": 2,
     "metadata": {},
     "output_type": "execute_result"
    }
   ],
   "source": [
    "#list\n",
    "\n",
    "l = [1,2]\n",
    "l.append('b')\n",
    "l.append('c')\n",
    "\n",
    "l.insert(1,56)\n",
    "l"
   ]
  },
  {
   "cell_type": "code",
   "execution_count": 3,
   "id": "6108f7a9",
   "metadata": {},
   "outputs": [
    {
     "name": "stdout",
     "output_type": "stream",
     "text": [
      "[1, 2]\n",
      "[1, 2, 'b']\n",
      "[1, 2, 'b', 'c']\n"
     ]
    },
    {
     "data": {
      "text/plain": [
       "[1, 56, 2, 'b', 'c']"
      ]
     },
     "execution_count": 3,
     "metadata": {},
     "output_type": "execute_result"
    }
   ],
   "source": [
    "#list\n",
    "\n",
    "l = [1,2]\n",
    "print(l)\n",
    "l.append('b')\n",
    "print(l)\n",
    "l.append('c')\n",
    "print(l)\n",
    "\n",
    "l.insert(1,56)\n",
    "l"
   ]
  },
  {
   "cell_type": "code",
   "execution_count": 4,
   "id": "75275a67",
   "metadata": {},
   "outputs": [
    {
     "name": "stdout",
     "output_type": "stream",
     "text": [
      "1\n",
      "56\n",
      "2\n",
      "b\n",
      "c\n"
     ]
    }
   ],
   "source": [
    "#for loop\n",
    "\n",
    "for i in l:\n",
    "    print(i)\n",
    "    "
   ]
  },
  {
   "cell_type": "code",
   "execution_count": 5,
   "id": "86bcf28b",
   "metadata": {},
   "outputs": [
    {
     "name": "stdout",
     "output_type": "stream",
     "text": [
      "the sum is 46\n"
     ]
    },
    {
     "data": {
      "text/plain": [
       "46"
      ]
     },
     "execution_count": 5,
     "metadata": {},
     "output_type": "execute_result"
    }
   ],
   "source": [
    "#program to find the sum of all numbers stored in a list\n",
    "numbers=[6, 5, 3, 8, 4, 2, 5, 4, 9]\n",
    "sum = 0\n",
    "for val in numbers:\n",
    "    sum = sum+val\n",
    "print(\"the sum is\",sum)\n",
    "sum\n"
   ]
  },
  {
   "cell_type": "code",
   "execution_count": 6,
   "id": "5e2c9876",
   "metadata": {},
   "outputs": [
    {
     "name": "stdout",
     "output_type": "stream",
     "text": [
      "i like pop\n",
      "i like rock\n",
      "i like jazz\n",
      "i like spana\n"
     ]
    }
   ],
   "source": [
    "#range function\n",
    "#program to iterate through a list using indexing\n",
    "\n",
    "genre = ['pop', 'rock', 'jazz', 'spana']\n",
    "\n",
    "#iterate over the list using index\n",
    "for i in range(len(genre)):\n",
    "    print(\"i like\",genre[i])\n"
   ]
  },
  {
   "cell_type": "code",
   "execution_count": 23,
   "id": "c77e246f",
   "metadata": {},
   "outputs": [
    {
     "name": "stdout",
     "output_type": "stream",
     "text": [
      "the end\n",
      "the end\n",
      "the end\n",
      "the end\n"
     ]
    }
   ],
   "source": [
    "#using break statment inside loop\n",
    "\n",
    "for val in \"SHRAVANA\":\n",
    "    if val == \"V\":\n",
    "        break\n",
    "        print(val)\n",
    "        \n",
    "    print(\"the end\")"
   ]
  },
  {
   "cell_type": "code",
   "execution_count": 20,
   "id": "951e7e6b",
   "metadata": {},
   "outputs": [
    {
     "name": "stdout",
     "output_type": "stream",
     "text": [
      "S\n",
      "H\n",
      "R\n",
      "A\n",
      "A\n",
      "N\n",
      "A\n",
      "the end\n"
     ]
    }
   ],
   "source": [
    "#program to show the use of continue statement inside loop\n",
    "\n",
    "for val in \"SHRAVANA\":\n",
    "    if val == \"V\":\n",
    "        continue\n",
    "    print(val)\n",
    "    \n",
    "print(\"the end\")"
   ]
  },
  {
   "cell_type": "code",
   "execution_count": 25,
   "id": "5b9e603c",
   "metadata": {},
   "outputs": [
    {
     "name": "stdout",
     "output_type": "stream",
     "text": [
      "what is your name?\n",
      "shravana\n"
     ]
    },
    {
     "data": {
      "text/plain": [
       "str"
      ]
     },
     "execution_count": 25,
     "metadata": {},
     "output_type": "execute_result"
    }
   ],
   "source": [
    "#program to take the input string from the user \n",
    "\n",
    "name = input (\"what is your name?\\n\")\n",
    "type(name)"
   ]
  },
  {
   "cell_type": "code",
   "execution_count": 26,
   "id": "11ffec7d",
   "metadata": {},
   "outputs": [
    {
     "name": "stdout",
     "output_type": "stream",
     "text": [
      "what is your age?21\n",
      "your age is : 21\n"
     ]
    },
    {
     "data": {
      "text/plain": [
       "str"
      ]
     },
     "execution_count": 26,
     "metadata": {},
     "output_type": "execute_result"
    }
   ],
   "source": [
    "#program to read integers from user\n",
    "\n",
    "age = input(\"what is your age?\")\n",
    "print(\"your age is :\",age)\n",
    "type(age)"
   ]
  },
  {
   "cell_type": "code",
   "execution_count": null,
   "id": "0c1c91a9",
   "metadata": {},
   "outputs": [],
   "source": []
  }
 ],
 "metadata": {
  "kernelspec": {
   "display_name": "Python 3 (ipykernel)",
   "language": "python",
   "name": "python3"
  },
  "language_info": {
   "codemirror_mode": {
    "name": "ipython",
    "version": 3
   },
   "file_extension": ".py",
   "mimetype": "text/x-python",
   "name": "python",
   "nbconvert_exporter": "python",
   "pygments_lexer": "ipython3",
   "version": "3.11.4"
  }
 },
 "nbformat": 4,
 "nbformat_minor": 5
}
